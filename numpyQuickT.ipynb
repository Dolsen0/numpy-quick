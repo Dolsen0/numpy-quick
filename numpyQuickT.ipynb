{
  "nbformat": 4,
  "nbformat_minor": 0,
  "metadata": {
    "colab": {
      "provenance": [],
      "authorship_tag": "ABX9TyMHqNS7ejo9smEWcPDeSTwe",
      "include_colab_link": true
    },
    "kernelspec": {
      "name": "python3",
      "display_name": "Python 3"
    },
    "language_info": {
      "name": "python"
    }
  },
  "cells": [
    {
      "cell_type": "markdown",
      "metadata": {
        "id": "view-in-github",
        "colab_type": "text"
      },
      "source": [
        "<a href=\"https://colab.research.google.com/github/Dolsen0/numpy-quick/blob/main/numpyQuickT.ipynb\" target=\"_parent\"><img src=\"https://colab.research.google.com/assets/colab-badge.svg\" alt=\"Open In Colab\"/></a>"
      ]
    },
    {
      "cell_type": "code",
      "execution_count": 2,
      "metadata": {
        "id": "qDo2PstsJb1E"
      },
      "outputs": [],
      "source": [
        "import numpy as np"
      ]
    },
    {
      "cell_type": "markdown",
      "source": [
        "Populate Arrays with specific numbers"
      ],
      "metadata": {
        "id": "93APQYe_J9tE"
      }
    },
    {
      "cell_type": "code",
      "source": [
        "# create a one dimensional array:\n",
        "oneDimensional = np.array([.02, .2, .14, .8, 2.3, 1])\n",
        "\n",
        "print(oneDimensional)\n",
        "\n",
        "# two dimensional array:\n",
        "\n",
        "twoDimensional = np.array([[2.3, 4.5, 2.2], [2.3, 1.2, .04]])\n",
        "\n",
        "print(twoDimensional)"
      ],
      "metadata": {
        "colab": {
          "base_uri": "https://localhost:8080/"
        },
        "id": "iQq096z8J8CJ",
        "outputId": "02606130-c964-4f30-d92b-4a749122d155"
      },
      "execution_count": 6,
      "outputs": [
        {
          "output_type": "stream",
          "name": "stdout",
          "text": [
            "[0.02 0.2  0.14 0.8  2.3  1.  ]\n",
            "[[2.3  4.5  2.2 ]\n",
            " [2.3  1.2  0.04]]\n"
          ]
        }
      ]
    },
    {
      "cell_type": "markdown",
      "source": [
        "Populate random numbers with numpy"
      ],
      "metadata": {
        "id": "jTStOM9VMSTU"
      }
    },
    {
      "cell_type": "code",
      "source": [
        "#random integers\n",
        "random_int = np.random.randint(low=10, high=100, size=(5))\n",
        "\n",
        "print(random_int)\n",
        "\n",
        "#random floats between 0 - 1\n",
        "random_float = np.random.random([3])\n",
        "\n",
        "print(random_float)\n",
        "\n",
        "\n",
        "#random float between 2 - 3\n",
        "random_float_two = random_float + 2\n",
        "\n",
        "print(random_float_two)"
      ],
      "metadata": {
        "colab": {
          "base_uri": "https://localhost:8080/"
        },
        "id": "SMDcXWadLmWb",
        "outputId": "24443783-8e00-4deb-f56b-cd952d112a0f"
      },
      "execution_count": 11,
      "outputs": [
        {
          "output_type": "stream",
          "name": "stdout",
          "text": [
            "[92 88 13 89 15]\n",
            "[0.76092076 0.80615173 0.96082857]\n",
            "[2.76092076 2.80615173 2.96082857]\n"
          ]
        }
      ]
    },
    {
      "cell_type": "markdown",
      "source": [
        "Task 1: Create a Linear Dataset\n",
        "\n",
        "Your goal is to create a simple dataset consisting of a single feature and a label as follows:\n",
        "\n",
        "\n",
        "\n",
        "*   Assign a sequence of integers from 6 to 20 (inclusive) to a NumPy array named feature.\n",
        "*   Assign 15 values to a NumPy array named label such that:\n",
        "\n",
        "\n",
        "\n",
        "\n",
        "\n"
      ],
      "metadata": {
        "id": "SgzmOczcQ-bq"
      }
    },
    {
      "cell_type": "code",
      "source": [
        "feature = np.arange(6, 21)\n",
        "\n",
        "label = (3 * feature) + 4\n",
        "\n",
        "print(feature)\n",
        "\n",
        "print(label)"
      ],
      "metadata": {
        "colab": {
          "base_uri": "https://localhost:8080/"
        },
        "id": "0OaZQ3M7OmD6",
        "outputId": "72d02411-fd09-4982-c636-92dafae48da7"
      },
      "execution_count": 18,
      "outputs": [
        {
          "output_type": "stream",
          "name": "stdout",
          "text": [
            "[ 6  7  8  9 10 11 12 13 14 15 16 17 18 19 20]\n",
            "[22 25 28 31 34 37 40 43 46 49 52 55 58 61 64]\n"
          ]
        }
      ]
    },
    {
      "cell_type": "markdown",
      "source": [
        "Task 2: Add Some Noise to the Dataset\n",
        "\n",
        "To make your dataset a little more realistic, insert a little random noise into each element of the label array you already created. To be more precise, modify each value assigned to label by adding a different random floating-point value between -2 and +2.\n",
        "\n",
        "Don't rely on broadcasting. Instead, create a noise array having the same dimension as label."
      ],
      "metadata": {
        "id": "LwBREeH_Q7I4"
      }
    },
    {
      "cell_type": "code",
      "source": [
        "noise = (np.random.random([15]) * 4) - 2\n",
        "\n",
        "label = label + noise\n",
        "\n",
        "print(noise)\n",
        "print(label)"
      ],
      "metadata": {
        "colab": {
          "base_uri": "https://localhost:8080/"
        },
        "id": "tiQePA2uRtXm",
        "outputId": "c81ebc0d-1c4b-4986-e69e-4687e63c8230"
      },
      "execution_count": 24,
      "outputs": [
        {
          "output_type": "stream",
          "name": "stdout",
          "text": [
            "[-1.22480487 -1.52795034  1.57733023  0.09664167  0.76215654  1.98961781\n",
            "  1.1351644   1.26226272 -0.53847523 -0.37418428  0.75712345  1.77005405\n",
            " -1.8668857  -1.84083081  1.60517412]\n",
            "[21.66345546 23.61310964 31.25050676 30.30555923 33.11602085 40.40788112\n",
            " 42.69035411 45.59728521 44.90551335 50.61737739 54.24516453 56.90795265\n",
            " 57.53609787 60.36574878 63.77820266]\n"
          ]
        }
      ]
    }
  ]
}