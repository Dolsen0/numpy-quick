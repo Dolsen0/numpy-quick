{
  "nbformat": 4,
  "nbformat_minor": 0,
  "metadata": {
    "colab": {
      "provenance": [],
      "authorship_tag": "ABX9TyPkqjrsGwbEx9xGR3rWHLRz",
      "include_colab_link": true
    },
    "kernelspec": {
      "name": "python3",
      "display_name": "Python 3"
    },
    "language_info": {
      "name": "python"
    }
  },
  "cells": [
    {
      "cell_type": "markdown",
      "metadata": {
        "id": "view-in-github",
        "colab_type": "text"
      },
      "source": [
        "<a href=\"https://colab.research.google.com/github/Dolsen0/numpy-quick/blob/main/numpyQuickT.ipynb\" target=\"_parent\"><img src=\"https://colab.research.google.com/assets/colab-badge.svg\" alt=\"Open In Colab\"/></a>"
      ]
    },
    {
      "cell_type": "code",
      "execution_count": 2,
      "metadata": {
        "id": "qDo2PstsJb1E"
      },
      "outputs": [],
      "source": [
        "import numpy as np"
      ]
    },
    {
      "cell_type": "markdown",
      "source": [
        "Populate Arrays with specific numbers"
      ],
      "metadata": {
        "id": "93APQYe_J9tE"
      }
    },
    {
      "cell_type": "code",
      "source": [
        "# create a one dimensional array:\n",
        "oneDimensional = np.array([.02, .2, .14, .8, 2.3, 1])\n",
        "\n",
        "print(oneDimensional)\n",
        "\n",
        "# two dimensional array:\n",
        "\n",
        "twoDimensional = np.array([[2.3, 4.5, 2.2], [2.3, 1.2, .04]])\n",
        "\n",
        "print(twoDimensional)"
      ],
      "metadata": {
        "colab": {
          "base_uri": "https://localhost:8080/"
        },
        "id": "iQq096z8J8CJ",
        "outputId": "02606130-c964-4f30-d92b-4a749122d155"
      },
      "execution_count": 6,
      "outputs": [
        {
          "output_type": "stream",
          "name": "stdout",
          "text": [
            "[0.02 0.2  0.14 0.8  2.3  1.  ]\n",
            "[[2.3  4.5  2.2 ]\n",
            " [2.3  1.2  0.04]]\n"
          ]
        }
      ]
    },
    {
      "cell_type": "markdown",
      "source": [
        "Populate random numbers with numpy"
      ],
      "metadata": {
        "id": "jTStOM9VMSTU"
      }
    },
    {
      "cell_type": "code",
      "source": [
        "#random integers\n",
        "random_int = np.random.randint(low=10, high=100, size=(5))\n",
        "\n",
        "print(random_int)\n",
        "\n",
        "#random floats between 0 - 1\n",
        "random_float = np.random.random([3])\n",
        "\n",
        "print(random_float)\n",
        "\n",
        "\n",
        "#random float between 2 - 3\n",
        "random_float_two = random_float + 2\n",
        "\n",
        "print(random_float_two)"
      ],
      "metadata": {
        "colab": {
          "base_uri": "https://localhost:8080/"
        },
        "id": "SMDcXWadLmWb",
        "outputId": "24443783-8e00-4deb-f56b-cd952d112a0f"
      },
      "execution_count": 11,
      "outputs": [
        {
          "output_type": "stream",
          "name": "stdout",
          "text": [
            "[92 88 13 89 15]\n",
            "[0.76092076 0.80615173 0.96082857]\n",
            "[2.76092076 2.80615173 2.96082857]\n"
          ]
        }
      ]
    },
    {
      "cell_type": "code",
      "source": [
        "feature = np.arange(6, 21)\n",
        "\n",
        "print(feature)"
      ],
      "metadata": {
        "colab": {
          "base_uri": "https://localhost:8080/"
        },
        "id": "0OaZQ3M7OmD6",
        "outputId": "7a750662-1590-4821-b675-c9959c22bf98"
      },
      "execution_count": 14,
      "outputs": [
        {
          "output_type": "stream",
          "name": "stdout",
          "text": [
            "[ 6  7  8  9 10 11 12 13 14 15 16 17 18 19 20]\n"
          ]
        }
      ]
    }
  ]
}