{
  "nbformat": 4,
  "nbformat_minor": 0,
  "metadata": {
    "colab": {
      "provenance": [],
      "authorship_tag": "ABX9TyPBNSMqbjHCbHiyavi1teY+"
    },
    "kernelspec": {
      "name": "python3",
      "display_name": "Python 3"
    },
    "language_info": {
      "name": "python"
    }
  },
  "cells": [
    {
      "cell_type": "code",
      "execution_count": 2,
      "metadata": {
        "id": "qDo2PstsJb1E"
      },
      "outputs": [],
      "source": [
        "import numpy as np"
      ]
    },
    {
      "cell_type": "markdown",
      "source": [
        "Populate Arrays with specific numbers"
      ],
      "metadata": {
        "id": "93APQYe_J9tE"
      }
    },
    {
      "cell_type": "code",
      "source": [
        "# create a one dimensional array:\n",
        "oneDimensional = np.array([.02, .2, .14, .8, 2.3, 1])\n",
        "\n",
        "print(oneDimensional)\n",
        "\n",
        "# two dimensional array:\n",
        "\n",
        "twoDimensional = np.array([[2.3, 4.5, 2.2], [2.3, 1.2, .04]])\n",
        "\n",
        "print(twoDimensional)"
      ],
      "metadata": {
        "colab": {
          "base_uri": "https://localhost:8080/"
        },
        "id": "iQq096z8J8CJ",
        "outputId": "02606130-c964-4f30-d92b-4a749122d155"
      },
      "execution_count": 6,
      "outputs": [
        {
          "output_type": "stream",
          "name": "stdout",
          "text": [
            "[0.02 0.2  0.14 0.8  2.3  1.  ]\n",
            "[[2.3  4.5  2.2 ]\n",
            " [2.3  1.2  0.04]]\n"
          ]
        }
      ]
    },
    {
      "cell_type": "markdown",
      "source": [
        "Populate random numbers with numpy"
      ],
      "metadata": {
        "id": "jTStOM9VMSTU"
      }
    },
    {
      "cell_type": "code",
      "source": [
        "#random integers\n",
        "random_int = np.random.randint(low=10, high=100, size=(5))\n",
        "\n",
        "print(random_int)\n",
        "\n",
        "#random floats between 0 - 1\n",
        "random_float = np.random.random([3])\n",
        "\n",
        "print(random_float)\n",
        "\n",
        "#random float "
      ],
      "metadata": {
        "colab": {
          "base_uri": "https://localhost:8080/"
        },
        "id": "SMDcXWadLmWb",
        "outputId": "fe82ca24-832b-4cb2-c84c-3d495a34b7cd"
      },
      "execution_count": 10,
      "outputs": [
        {
          "output_type": "stream",
          "name": "stdout",
          "text": [
            "[20 15 88 57 50]\n",
            "[0.32469931 0.50158094 0.00851929]\n"
          ]
        }
      ]
    }
  ]
}